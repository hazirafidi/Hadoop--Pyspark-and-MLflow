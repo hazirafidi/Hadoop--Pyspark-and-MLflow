{
 "cells": [
  {
   "cell_type": "markdown",
   "id": "7faa011a",
   "metadata": {},
   "source": [
    "# Acquiring HDFS using Pyspark"
   ]
  },
  {
   "cell_type": "code",
   "execution_count": 1,
   "id": "7f5d6c02",
   "metadata": {},
   "outputs": [
    {
     "name": "stdout",
     "output_type": "stream",
     "text": [
      "Current environment: /home/master/anaconda3/envs/mlops/bin/python\n",
      "Current Python Version: 3.10.6\n"
     ]
    }
   ],
   "source": [
    "# check env and python version\n",
    "import sys\n",
    "from platform import python_version\n",
    "print(f\"Current environment: {sys.executable}\")\n",
    "print(f\"Current Python Version: {python_version()}\")"
   ]
  },
  {
   "cell_type": "code",
   "execution_count": 2,
   "id": "255cbf05",
   "metadata": {},
   "outputs": [
    {
     "name": "stderr",
     "output_type": "stream",
     "text": [
      "2022-11-02 18:06:57,989 WARN util.Utils: Your hostname, hazirah resolves to a loopback address: 127.0.1.1; using 172.22.6.247 instead (on interface eth0)\n",
      "2022-11-02 18:06:57,991 WARN util.Utils: Set SPARK_LOCAL_IP if you need to bind to another address\n",
      "Setting default log level to \"WARN\".\n",
      "To adjust logging level use sc.setLogLevel(newLevel). For SparkR, use setLogLevel(newLevel).\n",
      "2022-11-02 18:07:00,044 WARN util.NativeCodeLoader: Unable to load native-hadoop library for your platform... using builtin-java classes where applicable\n"
     ]
    }
   ],
   "source": [
    "# create spark session\n",
    "from pyspark.sql import SparkSession\n",
    "spark = SparkSession.builder.getOrCreate()"
   ]
  },
  {
   "cell_type": "code",
   "execution_count": 3,
   "id": "1b1bc586",
   "metadata": {},
   "outputs": [],
   "source": [
    "# read HDFS file\n",
    "def load_data(path):\n",
    "    df_load = spark.read.option(\"header\", \"true\") \\\n",
    "                .csv(path)\n",
    "    df_load.show(truncate=True)\n",
    "    return df_load"
   ]
  },
  {
   "cell_type": "code",
   "execution_count": 4,
   "id": "16fe4d27",
   "metadata": {},
   "outputs": [
    {
     "name": "stdout",
     "output_type": "stream",
     "text": [
      "+---+---------------------+-------------------+--------------------+-------------+------+-----------+---------+------+--------------------+--------------------+-----+-----+-------+------------------+--------+--------------------+----------+--------------------+----------+------------------+------------------+--------+\n",
      "|_c0|trans_date_trans_time|             cc_num|            merchant|     category|   amt|      first|     last|gender|              street|                city|state|  zip|    lat|              long|city_pop|                 job|       dob|           trans_num| unix_time|         merch_lat|        merch_long|is_fraud|\n",
      "+---+---------------------+-------------------+--------------------+-------------+------+-----------+---------+------+--------------------+--------------------+-----+-----+-------+------------------+--------+--------------------+----------+--------------------+----------+------------------+------------------+--------+\n",
      "|  0|  2019-01-01 00:00:18|   2703186189652095|fraud_Rippin, Kub...|     misc_net|  4.97|   Jennifer|    Banks|     F|      561 Perry Cove|      Moravian Falls|   NC|28654|36.0788|          -81.1781|    3495|Psychologist, cou...|1988-03-09|0b242abb623afc578...|1325376018|         36.011293|        -82.048315|       0|\n",
      "|  1|  2019-01-01 00:00:44|       630423337322|fraud_Heller, Gut...|  grocery_pos|107.23|  Stephanie|     Gill|     F|43039 Riley Green...|              Orient|   WA|99160|48.8878|         -118.2105|     149|Special education...|1978-06-21|1f76529f857473494...|1325376044|49.159046999999994|       -118.186462|       0|\n",
      "|  2|  2019-01-01 00:00:51|     38859492057661|fraud_Lind-Buckridge|entertainment|220.11|     Edward|  Sanchez|     M|594 White Dale Su...|          Malad City|   ID|83252|42.1808|          -112.262|    4154|Nature conservati...|1962-01-19|a1a22d70485983eac...|1325376051|         43.150704|       -112.154481|       0|\n",
      "|  3|  2019-01-01 00:01:16|   3534093764340240|fraud_Kutch, Herm...|gas_transport|  45.0|     Jeremy|    White|     M|9443 Cynthia Cour...|             Boulder|   MT|59632|46.2306|         -112.1138|    1939|     Patent attorney|1967-01-12|6b849c168bdad6f86...|1325376076|         47.034331|       -112.561071|       0|\n",
      "|  4|  2019-01-01 00:03:06|    375534208663984| fraud_Keeling-Crist|     misc_pos| 41.96|      Tyler|   Garcia|     M|    408 Bradley Rest|            Doe Hill|   VA|24433|38.4207|          -79.4629|      99|Dance movement ps...|1986-03-28|a41d7549acf907893...|1325376186|         38.674999|        -78.632459|       0|\n",
      "|  5|  2019-01-01 00:04:08|   4767265376804500|fraud_Stroman, Hu...|gas_transport| 94.63|   Jennifer|   Conner|     F|   4655 David Island|              Dublin|   PA|18917| 40.375|          -75.2045|    2158|   Transport planner|1961-06-19|189a841a0a8ba0305...|1325376248|         40.653382|-76.15266700000001|       0|\n",
      "|  6|  2019-01-01 00:04:42|     30074693890476|fraud_Rowe-Vander...|  grocery_net| 44.54|     Kelsey| Richards|     F|889 Sarah Station...|             Holcomb|   KS|67851|37.9931|         -100.9893|    2691|     Arboriculturist|1993-08-16|83ec1cc84142af6e2...|1325376282|37.162704999999995|        -100.15337|       0|\n",
      "|  7|  2019-01-01 00:05:08|   6011360759745864|fraud_Corwin-Collins|gas_transport| 71.65|     Steven| Williams|     M|231 Flores Pass S...|            Edinburg|   VA|22824|38.8432|          -78.6003|    6018|Designer, multimedia|1947-08-21|6d294ed2cc447d2c7...|1325376308|         38.948089|        -78.540296|       0|\n",
      "|  8|  2019-01-01 00:05:18|   4922710831011201|    fraud_Herzog Ltd|     misc_pos|  4.27|    Heather|    Chase|     F|6888 Hicks Stream...|               Manor|   PA|15665|40.3359|          -79.6607|    1472|Public affairs co...|1941-03-07|fc28024ce480f8ef2...|1325376318|         40.351813|        -79.958146|       0|\n",
      "|  9|  2019-01-01 00:06:01|   2720830304681674|fraud_Schoen, Kup...|  grocery_pos|198.39|    Melissa|  Aguilar|     F|21326 Taylor Squa...|         Clarksville|   TN|37040| 36.522|-87.34899999999999|  151785|         Pathologist|1974-03-28|3b9014ea8fb80bd65...|1325376361|         37.179198|        -87.485381|       0|\n",
      "| 10|  2019-01-01 00:06:23|      4642894980163|fraud_Rutherford-...|  grocery_pos| 24.74|      Eddie|   Mendez|     M|1831 Faith View S...|            Clarinda|   IA|51632|40.7491|           -95.038|    7297|          IT trainer|1990-07-13|d71c95ab6b7356dd7...|1325376383|40.275890999999994|        -96.011548|       0|\n",
      "| 11|  2019-01-01 00:06:53|    377234009633447|fraud_Kerluke-Abs...| shopping_net|  7.77|    Theresa|Blackwell|     F|43576 Kristina Is...| Shenandoah Junction|   WV|25442|39.3716|          -77.8229|    1925|   Systems developer|1966-02-14|3c74776e558f1499a...|1325376413|         40.103866|        -78.624459|       0|\n",
      "| 12|  2019-01-01 00:06:56|    180042946491150|   fraud_Lockman Ltd|  grocery_pos| 71.22|    Charles|   Robles|     M|    3337 Lisa Divide|    Saint Petersburg|   FL|33710|27.7898|          -82.7243|  341043|      Engineer, land|1989-02-28|c1d9a7ddb1e34639f...|1325376416|         27.630593|        -82.308891|       0|\n",
      "| 13|  2019-01-01 00:07:27|   5559857416065248|     fraud_Kiehn Inc|  grocery_pos| 96.29|       Jack|     Hill|     M|5916 Susan Bridge...|             Grenada|   CA|96038|41.6125|         -122.5258|     589|     Systems analyst|1945-12-21|413636e759663f264...|1325376447|          41.65752|       -122.230347|       0|\n",
      "| 14|  2019-01-01 00:09:03|   3514865930894695|   fraud_Beier-Hyatt| shopping_pos|  7.77|Christopher|Castaneda|     M|1632 Cohen Drive ...|High Rolls Mounta...|   NM|88325|32.9396|         -105.8189|     899|     Naval architect|1967-08-30|8a6293af5ed278dea...|1325376543|         32.863258|       -106.520205|       0|\n",
      "| 15|  2019-01-01 00:09:20|   6011999606625827|fraud_Schmidt and...| shopping_net|  3.26|     Ronald|   Carson|     M|     870 Rocha Drive|     Harrington Park|   NJ| 7640|40.9918|            -73.98|    4664|Radiographer, dia...|1965-06-30|baae0b096835c9758...|1325376560|         41.831174|        -74.335559|       0|\n",
      "| 16|  2019-01-01 00:10:49|   6011860238257910|fraud_Lebsack and...|     misc_net| 327.0|       Lisa|   Mendez|     F|44259 Beth Statio...|              Lahoma|   OK|73754| 36.385|          -98.0727|    1078|Programme researc...|1952-07-06|991c04803b4d4eeab...|1325376649|36.384091999999995|        -99.048472|       0|\n",
      "| 17|  2019-01-01 00:10:58|   3565423334076143|  fraud_Mayert Group| shopping_pos|341.67|     Nathan|   Thomas|     M|4923 Campbell Pin...|            Carlisle|   IN|47838|38.9763|          -87.3667|    4081|     Energy engineer|1938-03-15|f12cf52be2175703d...|1325376658|38.674490999999996|        -88.305767|       0|\n",
      "| 18|  2019-01-01 00:11:14|   2348245054386329|fraud_Konopelski,...|  food_dining| 63.07|     Justin|      Gay|     M|268 Hayes Rue Sui...|         Harborcreek|   PA|16421|42.1767|          -79.9416|    2518|     Event organiser|1946-02-02|8500f3d459047eac8...|1325376674|         41.430274|        -79.492553|       0|\n",
      "| 19|  2019-01-01 00:12:34|4956828990005111019|fraud_Schultz, Si...|  grocery_pos| 44.71|    Kenneth| Robinson|     M|  269 Sanchez Rapids|           Elizabeth|   NJ| 7208|40.6747|          -74.2239|  124967|Operational resea...|1980-12-21|09eff9c806365e2a6...|1325376754|         40.079588|-74.84808699999999|       0|\n",
      "+---+---------------------+-------------------+--------------------+-------------+------+-----------+---------+------+--------------------+--------------------+-----+-----+-------+------------------+--------+--------------------+----------+--------------------+----------+------------------+------------------+--------+\n",
      "only showing top 20 rows\n",
      "\n"
     ]
    },
    {
     "name": "stderr",
     "output_type": "stream",
     "text": [
      "2022-11-02 18:07:09,457 WARN csv.CSVHeaderChecker: CSV header does not conform to the schema.\n",
      " Header: , trans_date_trans_time, cc_num, merchant, category, amt, first, last, gender, street, city, state, zip, lat, long, city_pop, job, dob, trans_num, unix_time, merch_lat, merch_long, is_fraud\n",
      " Schema: _c0, trans_date_trans_time, cc_num, merchant, category, amt, first, last, gender, street, city, state, zip, lat, long, city_pop, job, dob, trans_num, unix_time, merch_lat, merch_long, is_fraud\n",
      "Expected: _c0 but found: \n",
      "CSV file: hdfs://localhost:9000/user/fraudTrain.csv\n"
     ]
    }
   ],
   "source": [
    "path1 = 'hdfs://localhost:9000/user/fraudTrain.csv'\n",
    "df1 = load_data(path1)"
   ]
  },
  {
   "cell_type": "code",
   "execution_count": 5,
   "id": "8ae05cbb",
   "metadata": {},
   "outputs": [
    {
     "name": "stdout",
     "output_type": "stream",
     "text": [
      "+---+---------------------+-------------------+--------------------+--------------+------+---------+--------+------+--------------------+-------------+-----+-----+-------+------------------+--------+--------------------+----------+--------------------+----------+------------------+-------------------+--------+\n",
      "|_c0|trans_date_trans_time|             cc_num|            merchant|      category|   amt|    first|    last|gender|              street|         city|state|  zip|    lat|              long|city_pop|                 job|       dob|           trans_num| unix_time|         merch_lat|         merch_long|is_fraud|\n",
      "+---+---------------------+-------------------+--------------------+--------------+------+---------+--------+------+--------------------+-------------+-----+-----+-------+------------------+--------+--------------------+----------+--------------------+----------+------------------+-------------------+--------+\n",
      "|  0|  2020-06-21 12:14:25|   2291163933867244|fraud_Kirlin and ...| personal_care|  2.86|     Jeff| Elliott|     M|   351 Darlene Green|     Columbia|   SC|29209|33.9659|          -80.9355|  333497| Mechanical engineer|1968-03-19|2da90c7d74bd46a0c...|1371816865|         33.986391|         -81.200714|       0|\n",
      "|  1|  2020-06-21 12:14:33|   3573030041201292|fraud_Sporer-Keebler| personal_care| 29.84|   Joanne|Williams|     F|    3638 Marsh Union|      Altonah|   UT|84002|40.3207|          -110.436|     302|Sales professiona...|1990-01-17|324cc204407e99f51...|1371816873|39.450497999999996|        -109.960431|       0|\n",
      "|  2|  2020-06-21 12:14:53|   3598215285024754|fraud_Swaniawski,...|health_fitness| 41.28|   Ashley|   Lopez|     F|9333 Valentine Point|     Bellmore|   NY|11710|40.6729|          -73.5365|   34496|   Librarian, public|1970-10-21|c81755dbbbea9d5c7...|1371816893|          40.49581|         -74.196111|       0|\n",
      "|  3|  2020-06-21 12:15:15|   3591919803438423|   fraud_Haley Group|      misc_pos| 60.05|    Brian|Williams|     M|32941 Krystal Mil...|   Titusville|   FL|32780|28.5697|          -80.8191|   54767|        Set designer|1987-07-25|2159175b9efe66dc3...|1371816915|28.812397999999998|         -80.883061|       0|\n",
      "|  4|  2020-06-21 12:15:17|   3526826139003047|fraud_Johnston-Ca...|        travel|  3.19|   Nathan|  Massey|     M|5783 Evan Roads A...|     Falmouth|   MI|49632|44.2529|-85.01700000000001|    1126|  Furniture designer|1955-07-06|57ff021bd3f328f87...|1371816917|         44.959148|         -85.884734|       0|\n",
      "|  5|  2020-06-21 12:15:37|     30407675418785| fraud_Daugherty LLC|     kids_pets| 19.55| Danielle|   Evans|     F|76752 David Lodge...|    Breesport|   NY|14816|42.1939|          -76.7361|     520|     Psychotherapist|1991-10-13|798db04aaceb4febd...|1371816937|         41.747157|         -77.584197|       0|\n",
      "|  6|  2020-06-21 12:15:44|    213180742685905| fraud_Romaguera Ltd|health_fitness|133.93|    Kayla|  Sutton|     F|     010 Weaver Land|     Carlotta|   CA|95528| 40.507|         -123.9743|    1139|Therapist, occupa...|1951-01-15|17003d7ce534440ea...|1371816944|41.499458000000004|        -124.888729|       0|\n",
      "|  7|  2020-06-21 12:15:50|   3589289942931264|   fraud_Reichel LLC| personal_care| 10.37|    Paula| Estrada|     F|     350 Stacy Glens|      Spencer|   SD|57374|43.7557|          -97.5936|     343|Development worke...|1972-03-05|8be473af4f05fc614...|1371816950|         44.495498|         -97.728453|       0|\n",
      "|  8|  2020-06-21 12:16:10|   3596357274378601|fraud_Goyette, Ho...|  shopping_pos|  4.37|    David| Everett|     M|     4138 David Fall|   Morrisdale|   PA|16858|41.0001|          -78.2357|    3688|       Advice worker|1973-05-27|71a1da150d1ce5101...|1371816970|         41.546067|         -78.120238|       0|\n",
      "|  9|  2020-06-21 12:16:11|   3546897637165774| fraud_Kilback Group|   food_dining| 66.54|    Kayla|  Obrien|     F|7921 Robert Port ...| Prairie Hill|   TX|76678|31.6591|          -96.8094|     263|           Barrister|1956-05-30|a7915132c7c424099...|1371816971|         31.782919|         -96.366185|       0|\n",
      "| 10|  2020-06-21 12:16:20|   2242542703101233|fraud_Feil, Hilpe...|   food_dining|  7.01|   Samuel| Jenkins|     M|43235 Mckenzie Vi...|     Westport|   KY|40077|38.4921|          -85.4524|     564| Pensions consultant|1996-04-10|3b8e4d02d9e1a3bf9...|1371816980|38.977546000000004|         -84.727994|       0|\n",
      "| 11|  2020-06-21 12:16:47|       571465035400|fraud_Gottlieb Group|     kids_pets|  42.4|    Louis|  Fisher|     M|     45654 Hess Rest|Fort Washakie|   WY|82514|43.0048|         -108.8964|    1645|   Freight forwarder|1976-02-26|fa3071565d94fb286...|1371817007|         42.687774|-108.67005400000001|       0|\n",
      "| 12|  2020-06-21 12:17:21|   6593250708747804|fraud_Connelly-Ca...|          home|  2.91|  Melissa|    Meza|     F|  244 Abbott Parkway|  Loxahatchee|   FL|33470|26.7383|-80.27600000000001|   26551|           Paramedic|1977-01-04|a21cb82e7d8fdbf40...|1371817041|          26.07846|         -80.569932|       0|\n",
      "| 13|  2020-06-21 12:18:27|      4988304376504|fraud_Bechtelar-R...|   food_dining|  7.93|  William|Thompson|     M|977 Rita Grove Ap...|  Rock Tavern|   NY|12575|41.4575|          -74.1659|    2258|   Building surveyor|1937-03-17|d0d2b5cca5ae19e0a...|1371817107|          40.71168|         -73.668384|       0|\n",
      "| 14|  2020-06-21 12:18:37|   6011504998544485|fraud_Lubowitz-Wa...|     kids_pets|  2.91|   Ashley| Whitney|     F|   4038 Smith Avenue|        Jones|   AL|36749|32.5104|          -86.8138|    1089|  Materials engineer|1971-11-02|61dca41a9728ea5fd...|1371817117|         32.721131|         -87.253846|       0|\n",
      "| 15|  2020-06-21 12:18:41|   4570636521433188|fraud_Welch, Rath...| entertainment| 24.73|Christine| Leblanc|     F|5097 Jodi Vista S...|      Deltona|   FL|32725|28.8989|          -81.2473|   88735|Commercial hortic...|1988-04-09|ea11379e8aa1b08d5...|1371817121|          29.83155|         -80.926829|       0|\n",
      "| 16|  2020-06-21 12:18:54|4906628655840914250|  fraud_Hickle Group|  shopping_pos|  2.33|  Charles|  Moreno|     M|838 Franklin Prai...|     Key West|   FL|33040|24.6557|          -81.3824|   32891|        Town planner|1987-02-13|00da72495351ce6bd...|1371817134|         24.306325|         -81.065169|       0|\n",
      "| 17|  2020-06-21 12:19:50|   4908846471916297|fraud_Lang, Towne...|     kids_pets|  16.6|   Lauren|  Torres|     F|   03030 White Lakes|    Grandview|   TX|76050|32.2779|          -97.2351|    5875|Radiographer, the...|1992-07-24|67288141e8206f6f4...|1371817190|         33.182349| -97.91928399999999|       0|\n",
      "| 18|  2020-06-21 12:19:56|4861310130652566408|fraud_Morissette LLC| entertainment| 80.11|   Ashley|    Cruz|     F|65417 Walsh Radia...|  Saint Amant|   LA|70774|30.2385|          -90.8435|   10076|Surveyor, rural p...|1977-12-16|71bb6ee81f9af4d2a...|1371817196|30.449990000000003|         -89.930996|       0|\n",
      "| 19|  2020-06-21 12:20:13|   6538441737335434|  fraud_Prosacco LLC| personal_care|  5.71|     Gina|  Grimes|     F|     444 Robert Mews| Clarks Mills|   PA|16114|41.3851|          -80.1752|     606|      Energy manager|1997-09-22|2d7640ea4f3bcd520...|1371817213|40.508064000000005|         -79.615158|       0|\n",
      "+---+---------------------+-------------------+--------------------+--------------+------+---------+--------+------+--------------------+-------------+-----+-----+-------+------------------+--------+--------------------+----------+--------------------+----------+------------------+-------------------+--------+\n",
      "only showing top 20 rows\n",
      "\n"
     ]
    },
    {
     "name": "stderr",
     "output_type": "stream",
     "text": [
      "2022-11-02 18:07:10,029 WARN csv.CSVHeaderChecker: CSV header does not conform to the schema.\n",
      " Header: , trans_date_trans_time, cc_num, merchant, category, amt, first, last, gender, street, city, state, zip, lat, long, city_pop, job, dob, trans_num, unix_time, merch_lat, merch_long, is_fraud\n",
      " Schema: _c0, trans_date_trans_time, cc_num, merchant, category, amt, first, last, gender, street, city, state, zip, lat, long, city_pop, job, dob, trans_num, unix_time, merch_lat, merch_long, is_fraud\n",
      "Expected: _c0 but found: \n",
      "CSV file: hdfs://localhost:9000/user/fraudTest.csv\n"
     ]
    }
   ],
   "source": [
    "path2 = 'hdfs://localhost:9000/user/fraudTest.csv'\n",
    "df2 = load_data(path2)"
   ]
  },
  {
   "cell_type": "code",
   "execution_count": 6,
   "id": "13cd17ba",
   "metadata": {},
   "outputs": [
    {
     "name": "stdout",
     "output_type": "stream",
     "text": [
      "+---+---------------------+-------------------+--------------------+-------------+------+-----------+---------+------+--------------------+--------------------+-----+-----+-------+------------------+--------+--------------------+----------+--------------------+----------+------------------+------------------+--------+\n",
      "|_c0|trans_date_trans_time|             cc_num|            merchant|     category|   amt|      first|     last|gender|              street|                city|state|  zip|    lat|              long|city_pop|                 job|       dob|           trans_num| unix_time|         merch_lat|        merch_long|is_fraud|\n",
      "+---+---------------------+-------------------+--------------------+-------------+------+-----------+---------+------+--------------------+--------------------+-----+-----+-------+------------------+--------+--------------------+----------+--------------------+----------+------------------+------------------+--------+\n",
      "|  0|  2019-01-01 00:00:18|   2703186189652095|fraud_Rippin, Kub...|     misc_net|  4.97|   Jennifer|    Banks|     F|      561 Perry Cove|      Moravian Falls|   NC|28654|36.0788|          -81.1781|    3495|Psychologist, cou...|1988-03-09|0b242abb623afc578...|1325376018|         36.011293|        -82.048315|       0|\n",
      "|  1|  2019-01-01 00:00:44|       630423337322|fraud_Heller, Gut...|  grocery_pos|107.23|  Stephanie|     Gill|     F|43039 Riley Green...|              Orient|   WA|99160|48.8878|         -118.2105|     149|Special education...|1978-06-21|1f76529f857473494...|1325376044|49.159046999999994|       -118.186462|       0|\n",
      "|  2|  2019-01-01 00:00:51|     38859492057661|fraud_Lind-Buckridge|entertainment|220.11|     Edward|  Sanchez|     M|594 White Dale Su...|          Malad City|   ID|83252|42.1808|          -112.262|    4154|Nature conservati...|1962-01-19|a1a22d70485983eac...|1325376051|         43.150704|       -112.154481|       0|\n",
      "|  3|  2019-01-01 00:01:16|   3534093764340240|fraud_Kutch, Herm...|gas_transport|  45.0|     Jeremy|    White|     M|9443 Cynthia Cour...|             Boulder|   MT|59632|46.2306|         -112.1138|    1939|     Patent attorney|1967-01-12|6b849c168bdad6f86...|1325376076|         47.034331|       -112.561071|       0|\n",
      "|  4|  2019-01-01 00:03:06|    375534208663984| fraud_Keeling-Crist|     misc_pos| 41.96|      Tyler|   Garcia|     M|    408 Bradley Rest|            Doe Hill|   VA|24433|38.4207|          -79.4629|      99|Dance movement ps...|1986-03-28|a41d7549acf907893...|1325376186|         38.674999|        -78.632459|       0|\n",
      "|  5|  2019-01-01 00:04:08|   4767265376804500|fraud_Stroman, Hu...|gas_transport| 94.63|   Jennifer|   Conner|     F|   4655 David Island|              Dublin|   PA|18917| 40.375|          -75.2045|    2158|   Transport planner|1961-06-19|189a841a0a8ba0305...|1325376248|         40.653382|-76.15266700000001|       0|\n",
      "|  6|  2019-01-01 00:04:42|     30074693890476|fraud_Rowe-Vander...|  grocery_net| 44.54|     Kelsey| Richards|     F|889 Sarah Station...|             Holcomb|   KS|67851|37.9931|         -100.9893|    2691|     Arboriculturist|1993-08-16|83ec1cc84142af6e2...|1325376282|37.162704999999995|        -100.15337|       0|\n",
      "|  7|  2019-01-01 00:05:08|   6011360759745864|fraud_Corwin-Collins|gas_transport| 71.65|     Steven| Williams|     M|231 Flores Pass S...|            Edinburg|   VA|22824|38.8432|          -78.6003|    6018|Designer, multimedia|1947-08-21|6d294ed2cc447d2c7...|1325376308|         38.948089|        -78.540296|       0|\n",
      "|  8|  2019-01-01 00:05:18|   4922710831011201|    fraud_Herzog Ltd|     misc_pos|  4.27|    Heather|    Chase|     F|6888 Hicks Stream...|               Manor|   PA|15665|40.3359|          -79.6607|    1472|Public affairs co...|1941-03-07|fc28024ce480f8ef2...|1325376318|         40.351813|        -79.958146|       0|\n",
      "|  9|  2019-01-01 00:06:01|   2720830304681674|fraud_Schoen, Kup...|  grocery_pos|198.39|    Melissa|  Aguilar|     F|21326 Taylor Squa...|         Clarksville|   TN|37040| 36.522|-87.34899999999999|  151785|         Pathologist|1974-03-28|3b9014ea8fb80bd65...|1325376361|         37.179198|        -87.485381|       0|\n",
      "| 10|  2019-01-01 00:06:23|      4642894980163|fraud_Rutherford-...|  grocery_pos| 24.74|      Eddie|   Mendez|     M|1831 Faith View S...|            Clarinda|   IA|51632|40.7491|           -95.038|    7297|          IT trainer|1990-07-13|d71c95ab6b7356dd7...|1325376383|40.275890999999994|        -96.011548|       0|\n",
      "| 11|  2019-01-01 00:06:53|    377234009633447|fraud_Kerluke-Abs...| shopping_net|  7.77|    Theresa|Blackwell|     F|43576 Kristina Is...| Shenandoah Junction|   WV|25442|39.3716|          -77.8229|    1925|   Systems developer|1966-02-14|3c74776e558f1499a...|1325376413|         40.103866|        -78.624459|       0|\n",
      "| 12|  2019-01-01 00:06:56|    180042946491150|   fraud_Lockman Ltd|  grocery_pos| 71.22|    Charles|   Robles|     M|    3337 Lisa Divide|    Saint Petersburg|   FL|33710|27.7898|          -82.7243|  341043|      Engineer, land|1989-02-28|c1d9a7ddb1e34639f...|1325376416|         27.630593|        -82.308891|       0|\n",
      "| 13|  2019-01-01 00:07:27|   5559857416065248|     fraud_Kiehn Inc|  grocery_pos| 96.29|       Jack|     Hill|     M|5916 Susan Bridge...|             Grenada|   CA|96038|41.6125|         -122.5258|     589|     Systems analyst|1945-12-21|413636e759663f264...|1325376447|          41.65752|       -122.230347|       0|\n",
      "| 14|  2019-01-01 00:09:03|   3514865930894695|   fraud_Beier-Hyatt| shopping_pos|  7.77|Christopher|Castaneda|     M|1632 Cohen Drive ...|High Rolls Mounta...|   NM|88325|32.9396|         -105.8189|     899|     Naval architect|1967-08-30|8a6293af5ed278dea...|1325376543|         32.863258|       -106.520205|       0|\n",
      "| 15|  2019-01-01 00:09:20|   6011999606625827|fraud_Schmidt and...| shopping_net|  3.26|     Ronald|   Carson|     M|     870 Rocha Drive|     Harrington Park|   NJ| 7640|40.9918|            -73.98|    4664|Radiographer, dia...|1965-06-30|baae0b096835c9758...|1325376560|         41.831174|        -74.335559|       0|\n",
      "| 16|  2019-01-01 00:10:49|   6011860238257910|fraud_Lebsack and...|     misc_net| 327.0|       Lisa|   Mendez|     F|44259 Beth Statio...|              Lahoma|   OK|73754| 36.385|          -98.0727|    1078|Programme researc...|1952-07-06|991c04803b4d4eeab...|1325376649|36.384091999999995|        -99.048472|       0|\n",
      "| 17|  2019-01-01 00:10:58|   3565423334076143|  fraud_Mayert Group| shopping_pos|341.67|     Nathan|   Thomas|     M|4923 Campbell Pin...|            Carlisle|   IN|47838|38.9763|          -87.3667|    4081|     Energy engineer|1938-03-15|f12cf52be2175703d...|1325376658|38.674490999999996|        -88.305767|       0|\n",
      "| 18|  2019-01-01 00:11:14|   2348245054386329|fraud_Konopelski,...|  food_dining| 63.07|     Justin|      Gay|     M|268 Hayes Rue Sui...|         Harborcreek|   PA|16421|42.1767|          -79.9416|    2518|     Event organiser|1946-02-02|8500f3d459047eac8...|1325376674|         41.430274|        -79.492553|       0|\n",
      "| 19|  2019-01-01 00:12:34|4956828990005111019|fraud_Schultz, Si...|  grocery_pos| 44.71|    Kenneth| Robinson|     M|  269 Sanchez Rapids|           Elizabeth|   NJ| 7208|40.6747|          -74.2239|  124967|Operational resea...|1980-12-21|09eff9c806365e2a6...|1325376754|         40.079588|-74.84808699999999|       0|\n",
      "+---+---------------------+-------------------+--------------------+-------------+------+-----------+---------+------+--------------------+--------------------+-----+-----+-------+------------------+--------+--------------------+----------+--------------------+----------+------------------+------------------+--------+\n",
      "only showing top 20 rows\n",
      "\n"
     ]
    },
    {
     "name": "stderr",
     "output_type": "stream",
     "text": [
      "2022-11-02 18:07:10,552 WARN csv.CSVHeaderChecker: CSV header does not conform to the schema.\n",
      " Header: , trans_date_trans_time, cc_num, merchant, category, amt, first, last, gender, street, city, state, zip, lat, long, city_pop, job, dob, trans_num, unix_time, merch_lat, merch_long, is_fraud\n",
      " Schema: _c0, trans_date_trans_time, cc_num, merchant, category, amt, first, last, gender, street, city, state, zip, lat, long, city_pop, job, dob, trans_num, unix_time, merch_lat, merch_long, is_fraud\n",
      "Expected: _c0 but found: \n",
      "CSV file: hdfs://localhost:9000/user/fraudTrain.csv\n"
     ]
    }
   ],
   "source": [
    "# join tables\n",
    "df_all = df1.union(df2)\n",
    "df_all.show(truncate=True)"
   ]
  },
  {
   "cell_type": "code",
   "execution_count": 7,
   "id": "e1561ecb",
   "metadata": {},
   "outputs": [],
   "source": [
    "# save hdfs file to local\n",
    "def save_file(df, path):\n",
    "    df.write.option(\"header\",\"true\") \\\n",
    "        .option(\"encoding\", \"UTF-8\") \\\n",
    "        .csv(path)"
   ]
  },
  {
   "cell_type": "code",
   "execution_count": 8,
   "id": "76670f75",
   "metadata": {},
   "outputs": [
    {
     "name": "stderr",
     "output_type": "stream",
     "text": [
      "2022-11-02 18:07:16,076 WARN csv.CSVHeaderChecker: CSV header does not conform to the schema.\n",
      " Header: , trans_date_trans_time, cc_num, merchant, category, amt, first, last, gender, street, city, state, zip, lat, long, city_pop, job, dob, trans_num, unix_time, merch_lat, merch_long, is_fraud\n",
      " Schema: _c0, trans_date_trans_time, cc_num, merchant, category, amt, first, last, gender, street, city, state, zip, lat, long, city_pop, job, dob, trans_num, unix_time, merch_lat, merch_long, is_fraud\n",
      "Expected: _c0 but found: \n",
      "CSV file: hdfs://localhost:9000/user/fraudTrain.csv\n",
      "2022-11-02 18:07:19,240 WARN csv.CSVHeaderChecker: CSV header does not conform to the schema.\n",
      " Header: , trans_date_trans_time, cc_num, merchant, category, amt, first, last, gender, street, city, state, zip, lat, long, city_pop, job, dob, trans_num, unix_time, merch_lat, merch_long, is_fraud\n",
      " Schema: _c0, trans_date_trans_time, cc_num, merchant, category, amt, first, last, gender, street, city, state, zip, lat, long, city_pop, job, dob, trans_num, unix_time, merch_lat, merch_long, is_fraud\n",
      "Expected: _c0 but found: \n",
      "CSV file: hdfs://localhost:9000/user/fraudTest.csv\n",
      "                                                                                \r"
     ]
    }
   ],
   "source": [
    "save_path = \"file:///home/master/projects/mlflow/HDFSfile/fraud\"\n",
    "df1_save = save_file(df_all, save_path)"
   ]
  }
 ],
 "metadata": {
  "kernelspec": {
   "display_name": "mlops",
   "language": "python",
   "name": "mlops"
  },
  "language_info": {
   "codemirror_mode": {
    "name": "ipython",
    "version": 3
   },
   "file_extension": ".py",
   "mimetype": "text/x-python",
   "name": "python",
   "nbconvert_exporter": "python",
   "pygments_lexer": "ipython3",
   "version": "3.10.6"
  }
 },
 "nbformat": 4,
 "nbformat_minor": 5
}
